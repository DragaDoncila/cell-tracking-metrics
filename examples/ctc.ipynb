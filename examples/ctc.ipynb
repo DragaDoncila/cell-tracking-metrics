{
 "cells": [
  {
   "cell_type": "code",
   "execution_count": 5,
   "metadata": {},
   "outputs": [],
   "source": [
    "import os\n",
    "from pathlib import Path\n",
    "import urllib.request\n",
    "import zipfile\n",
    "\n",
    "from tqdm import tqdm\n",
    "\n",
    "from cell_tracking_metrics.loaders.ctc import load_ctc_data"
   ]
  },
  {
   "cell_type": "code",
   "execution_count": 18,
   "metadata": {},
   "outputs": [],
   "source": [
    "# Add a utility to make a progress bar when downloading the file\n",
    "url = \"http://data.celltrackingchallenge.net/training-datasets/Fluo-N2DL-HeLa.zip\"\n",
    "data_dir = 'downloads'\n",
    "\n",
    "if not os.path.exists(data_dir):\n",
    "    os.mkdir(data_dir)\n",
    "\n",
    "filename = url.split('/')[-1]\n",
    "file_path = os.path.join(data_dir, filename)\n",
    "ds_name = filename.split('.')[0]"
   ]
  },
  {
   "cell_type": "code",
   "execution_count": 19,
   "metadata": {},
   "outputs": [
    {
     "name": "stdout",
     "output_type": "stream",
     "text": [
      "Downloading Fluo-N2DL-HeLa data from the CTC website\n"
     ]
    },
    {
     "name": "stderr",
     "output_type": "stream",
     "text": [
      "Fluo-N2DL-HeLa.zip: 191MB [00:10, 17.4MB/s]                              \n"
     ]
    }
   ],
   "source": [
    "class DownloadProgressBar(tqdm):\n",
    "    def update_to(self, b=1, bsize=1, tsize=None):\n",
    "        if tsize is not None:\n",
    "            self.total = tsize\n",
    "        self.update(b * bsize - self.n)\n",
    "\n",
    "if not os.path.exists(file_path):\n",
    "    print(f\"Downloading {ds_name} data from the CTC website\")\n",
    "    # Downloading data\n",
    "    with DownloadProgressBar(unit='B', unit_scale=True,\n",
    "                             miniters=1, desc=url.split('/')[-1]) as t:\n",
    "        urllib.request.urlretrieve(url, file_path, reporthook=t.update_to)\n",
    "    # Unzip the data\n",
    "    # TODO add a progress bar to zip as well\n",
    "    with zipfile.ZipFile(file_path, 'r') as zip_ref:\n",
    "        zip_ref.extractall(data_dir)"
   ]
  },
  {
   "cell_type": "code",
   "execution_count": 21,
   "metadata": {},
   "outputs": [],
   "source": [
    "\n",
    "gt_data = load_ctc_data('downloads/Fluo-N2DL-HeLa/01_GT/TRA', 'man_track.txt')\n",
    "pred_data = load_ctc_data('sample-data/Fluo-N2DL-HeLa/01_RES', 'res_track.txt')"
   ]
  },
  {
   "cell_type": "code",
   "execution_count": null,
   "metadata": {},
   "outputs": [],
   "source": []
  }
 ],
 "metadata": {
  "kernelspec": {
   "display_name": "tracking-metrics",
   "language": "python",
   "name": "python3"
  },
  "language_info": {
   "codemirror_mode": {
    "name": "ipython",
    "version": 3
   },
   "file_extension": ".py",
   "mimetype": "text/x-python",
   "name": "python",
   "nbconvert_exporter": "python",
   "pygments_lexer": "ipython3",
   "version": "3.10.9"
  },
  "orig_nbformat": 4
 },
 "nbformat": 4,
 "nbformat_minor": 2
}

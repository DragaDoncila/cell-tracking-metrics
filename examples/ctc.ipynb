{
 "cells": [
  {
   "attachments": {},
   "cell_type": "markdown",
   "metadata": {},
   "source": [
    "# Benchmarking Cell Tracking Challenge Data"
   ]
  },
  {
   "cell_type": "code",
   "execution_count": 2,
   "metadata": {},
   "outputs": [],
   "source": [
    "import logging\n",
    "import os\n",
    "from pathlib import Path\n",
    "import pprint\n",
    "import urllib.request\n",
    "import zipfile\n",
    "import matplotlib.pyplot as plt\n",
    "\n",
    "from tqdm import tqdm\n",
    "\n",
    "from traccuracy import run_metrics\n",
    "from traccuracy.loaders import load_ctc_data\n",
    "from traccuracy.matchers import CTCMatched, IOUMatched\n",
    "from traccuracy.metrics import CTCMetrics, DivisionMetrics\n",
    "\n",
    "pp = pprint.PrettyPrinter(indent=4)\n",
    "logging.basicConfig(level=logging.INFO)"
   ]
  },
  {
   "cell_type": "markdown",
   "metadata": {},
   "source": [
    "### Download the GT annotations for a specific example to get started with metrics evaluation:\n",
    "\n",
    "The following 2 cells automatically download the GT data for the provided dataset. \n",
    "\n",
    "_Note:_ In the rare case of getting this error:\n",
    "\n",
    "```URLError: <urlopen error [SSL: CERTIFICATE_VERIFY_FAILED] certificate verify failed: unable to get local issuer certificate (_ssl.c:997)>```\n",
    "\n",
    "...make sure to download the data manually - navigate to the [CTC website](http://celltrackingchallenge.net/2d-datasets/) & download the **training** dataset for [Fluo-N2DL-HeLa](http://data.celltrackingchallenge.net/training-datasets/Fluo-N2DL-HeLa.zip) in the `.zip` format. After unzipping, navigate to the `./Fluo-N2DL-HeLa/01_GT/TRA/` subfolder where 92 manually annotated GT `.tiff` files & a manual tracking `.txt` file should be located. \n",
    "\n",
    "And voila, now you're ready to proceed with the rest of the notebook, bypassing the error message!\n"
   ]
  },
  {
   "cell_type": "code",
   "execution_count": 3,
   "metadata": {},
   "outputs": [],
   "source": [
    "url = \"http://data.celltrackingchallenge.net/training-datasets/Fluo-N2DL-HeLa.zip\"\n",
    "data_dir = 'downloads'\n",
    "\n",
    "if not os.path.exists(data_dir):\n",
    "    os.mkdir(data_dir)\n",
    "\n",
    "filename = url.split('/')[-1]\n",
    "file_path = os.path.join(data_dir, filename)\n",
    "ds_name = filename.split('.')[0]"
   ]
  },
  {
   "cell_type": "code",
   "execution_count": null,
   "metadata": {},
   "outputs": [],
   "source": [
    "# Add a utility to make a progress bar when downloading the file\n",
    "class DownloadProgressBar(tqdm):\n",
    "    def update_to(self, b=1, bsize=1, tsize=None):\n",
    "        if tsize is not None:\n",
    "            self.total = tsize\n",
    "        self.update(b * bsize - self.n)\n",
    "\n",
    "if not os.path.exists(file_path):\n",
    "    print(f\"Downloading {ds_name} data from the CTC website\")\n",
    "    # Downloading data\n",
    "    with DownloadProgressBar(unit='B', unit_scale=True,\n",
    "                             miniters=1, desc=url.split('/')[-1]) as t:\n",
    "        urllib.request.urlretrieve(url, file_path, reporthook=t.update_to)\n",
    "    # Unzip the data\n",
    "    # TODO add a progress bar to zip as well\n",
    "    with zipfile.ZipFile(file_path, 'r') as zip_ref:\n",
    "        zip_ref.extractall(data_dir)"
   ]
  },
  {
   "cell_type": "markdown",
   "metadata": {},
   "source": [
    "### Generate loaders for the `true` and `pred` TrackingGraph objects:"
   ]
  },
  {
   "cell_type": "code",
   "execution_count": 5,
   "metadata": {},
   "outputs": [],
   "source": [
    "def tracking_graph_data_loader(\n",
    "    data_dir: str | Path, \n",
    "    track_path: str | Path, \n",
    "):\n",
    "    return load_ctc_data(\n",
    "        data_dir=data_dir, \n",
    "        track_path=track_path\n",
    "    )"
   ]
  },
  {
   "cell_type": "code",
   "execution_count": 6,
   "metadata": {},
   "outputs": [],
   "source": [
    "true_data, true_track = 'downloads/Fluo-N2DL-HeLa/01_GT/TRA', 'downloads/Fluo-N2DL-HeLa/01_GT/TRA/man_track.txt'\n",
    "pred_data, pred_track = 'sample-data/Fluo-N2DL-HeLa/01_RES', 'sample-data/Fluo-N2DL-HeLa/01_RES/res_track.txt'\n"
   ]
  },
  {
   "attachments": {},
   "cell_type": "markdown",
   "metadata": {},
   "source": [
    "### Run CTC metrics with additional evaluation of division events:\n",
    "\n",
    "This function is implemented over multiple frame buffers to add less constraints on division detection. "
   ]
  },
  {
   "cell_type": "code",
   "execution_count": 7,
   "metadata": {},
   "outputs": [
    {
     "name": "stderr",
     "output_type": "stream",
     "text": [
      "Loading TIFFs: 100%|██████████| 92/92 [00:00<00:00, 307.88it/s]\n",
      "Loading TIFFs: 100%|██████████| 92/92 [00:00<00:00, 547.84it/s]\n",
      "Matching frames: 100%|██████████| 92/92 [00:00<00:00, 104.49it/s]\n",
      "INFO:traccuracy.matchers._matched:Matched 8600 out of 8639 ground truth nodes.\n",
      "INFO:traccuracy.matchers._matched:Matched 8600 out of 8600 predicted nodes.\n",
      "Evaluating nodes: 100%|██████████| 8600/8600 [00:00<00:00, 646770.08it/s]\n",
      "Evaluating FP edges: 100%|██████████| 8535/8535 [00:00<00:00, 926219.52it/s]\n",
      "Evaluating FN edges: 100%|██████████| 8562/8562 [00:00<00:00, 1147886.55it/s]\n"
     ]
    },
    {
     "name": "stdout",
     "output_type": "stream",
     "text": [
      "{   'CTCMetrics': {   'AOGM': 627.5,\n",
      "                      'DET': 0.9954855886097927,\n",
      "                      'TRA': 0.993676498745377,\n",
      "                      'fn_edges': 87,\n",
      "                      'fn_nodes': 39,\n",
      "                      'fp_edges': 60,\n",
      "                      'fp_nodes': 0,\n",
      "                      'ns_nodes': 0,\n",
      "                      'ws_edges': 47},\n",
      "    'DivisionMetrics': {   'Frame Buffer 0': {   'Division F1': 0.76,\n",
      "                                                 'Division Precision': 0.7169811320754716,\n",
      "                                                 'Division Recall': 0.8085106382978723,\n",
      "                                                 'False Negative Divisions': 18,\n",
      "                                                 'False Positive Divisions': 30,\n",
      "                                                 'Mitotic Branching Correctness': 0.6129032258064516,\n",
      "                                                 'True Positive Divisions': 76},\n",
      "                           'Frame Buffer 1': {   'Division F1': 0.76,\n",
      "                                                 'Division Precision': 0.7169811320754716,\n",
      "                                                 'Division Recall': 0.8085106382978723,\n",
      "                                                 'False Negative Divisions': 18,\n",
      "                                                 'False Positive Divisions': 30,\n",
      "                                                 'Mitotic Branching Correctness': 0.6129032258064516,\n",
      "                                                 'True Positive Divisions': 76},\n",
      "                           'Frame Buffer 2': {   'Division F1': 0.76,\n",
      "                                                 'Division Precision': 0.7169811320754716,\n",
      "                                                 'Division Recall': 0.8085106382978723,\n",
      "                                                 'False Negative Divisions': 18,\n",
      "                                                 'False Positive Divisions': 30,\n",
      "                                                 'Mitotic Branching Correctness': 0.6129032258064516,\n",
      "                                                 'True Positive Divisions': 76}}}\n"
     ]
    }
   ],
   "source": [
    "ctc_results = run_metrics(\n",
    "    gt_data=tracking_graph_data_loader(true_data, true_track), \n",
    "    pred_data=tracking_graph_data_loader(pred_data, pred_track), \n",
    "    matcher=CTCMatched, \n",
    "    metrics=[CTCMetrics, DivisionMetrics],\n",
    "    metrics_kwargs=dict(\n",
    "        frame_buffer=(0,1,2)\n",
    "    )\n",
    ")\n",
    "pp.pprint(ctc_results)"
   ]
  },
  {
   "attachments": {},
   "cell_type": "markdown",
   "metadata": {},
   "source": [
    "### Use an IOU matcher which supports a minimum threshold for overlap and run division metrics:"
   ]
  },
  {
   "cell_type": "code",
   "execution_count": null,
   "metadata": {},
   "outputs": [
    {
     "name": "stderr",
     "output_type": "stream",
     "text": [
      "Loading TIFFs: 100%|██████████| 92/92 [00:00<00:00, 345.29it/s]\n",
      "Loading TIFFs: 100%|██████████| 92/92 [00:00<00:00, 556.31it/s]\n",
      "Matching frames: 100%|██████████| 92/92 [00:05<00:00, 15.41it/s]\n",
      "INFO:traccuracy.matchers._matched:Matched 1617 out of 8639 ground truth nodes.\n",
      "INFO:traccuracy.matchers._matched:Matched 1617 out of 8600 predicted nodes.\n"
     ]
    },
    {
     "name": "stdout",
     "output_type": "stream",
     "text": [
      "{   'DivisionMetrics': {   'Frame Buffer 0': {   'Division F1': 0,\n",
      "                                                 'Division Precision': 0.0,\n",
      "                                                 'Division Recall': 0.0,\n",
      "                                                 'False Negative Divisions': 94,\n",
      "                                                 'False Positive Divisions': 93,\n",
      "                                                 'Mitotic Branching Correctness': 0.0,\n",
      "                                                 'True Positive Divisions': 0}}}\n"
     ]
    }
   ],
   "source": [
    "iou_results = run_metrics(\n",
    "    gt_data=tracking_graph_data_loader(true_data, true_track), \n",
    "    pred_data=tracking_graph_data_loader(pred_data, pred_track), \n",
    "    matcher=IOUMatched, \n",
    "    matcher_kwargs=dict(\n",
    "        iou_threshold=0.5\n",
    "    ),\n",
    "    metrics=[DivisionMetrics], \n",
    "    metrics_kwargs=dict(\n",
    "        frame_buffer=(0, )\n",
    "    )\n",
    ")\n",
    "pp.pprint(iou_results)"
   ]
  },
  {
   "cell_type": "markdown",
   "metadata": {},
   "source": [
    "### Use a range of IoU thresholds to monitor how the IoU influences the scoring of divisions:\n",
    "\n",
    "These 19 iterations should take around ~2.5 minutes to compute in total. "
   ]
  },
  {
   "cell_type": "code",
   "execution_count": null,
   "metadata": {},
   "outputs": [],
   "source": [
    "iou_range = [i / 100 for i in range(10, 105, 5)]\n",
    "frm = 0\n",
    "    \n",
    "metrics_by_iou = {}\n",
    "for iou in iou_range:\n",
    "    print (f\"IoU = {iou} for frame buffer {frm}\")\n",
    "\n",
    "    iou_results = run_metrics(\n",
    "        gt_data=tracking_graph_data_loader(true_data, true_track), \n",
    "        pred_data=tracking_graph_data_loader(pred_data, pred_track), \n",
    "        matcher=IOUMatched, \n",
    "        matcher_kwargs=dict(iou_threshold=iou),\n",
    "        metrics=[DivisionMetrics], \n",
    "        metrics_kwargs=dict(frame_buffer=(frm, ))\n",
    "    )\n",
    "\n",
    "    # Append the metric by IoU\n",
    "    metrics_by_iou[iou] = iou_results['DivisionMetrics'][f'Frame Buffer {frm}']\n",
    "    "
   ]
  },
  {
   "cell_type": "markdown",
   "metadata": {},
   "source": [
    "### Plot the results on a figure:"
   ]
  },
  {
   "cell_type": "code",
   "execution_count": 53,
   "metadata": {},
   "outputs": [
    {
     "data": {
      "image/png": "[encoded data removed]",
      "text/plain": [
       "<Figure size 800x400 with 1 Axes>"
      ]
     },
     "metadata": {},
     "output_type": "display_data"
    }
   ],
   "source": [
    "plt.figure(figsize=(8, 4))\n",
    "\n",
    "for key in (\"Division F1\", \"Division Recall\", \"Division Precision\"):\n",
    "    plt.plot([metrics_by_iou[iou][key] for iou in iou_range], label=key)\n",
    "\n",
    "plt.xticks(ticks=range(len(iou_range)), labels=iou_range)\n",
    "plt.title(\"Dependency of metrics on the IoU threshold\")\n",
    "plt.xlabel(\"IoU Threshold for matching\")\n",
    "plt.ylabel(\"Metric value\")\n",
    "plt.legend()\n",
    "plt.show()\n"
   ]
  },
  {
   "cell_type": "markdown",
   "metadata": {},
   "source": [
    "##### Done!"
   ]
  }
 ],
 "metadata": {
  "kernelspec": {
   "display_name": "tracking-metrics",
   "language": "python",
   "name": "python3"
  },
  "language_info": {
   "codemirror_mode": {
    "name": "ipython",
    "version": 3
   },
   "file_extension": ".py",
   "mimetype": "text/x-python",
   "name": "python",
   "nbconvert_exporter": "python",
   "pygments_lexer": "ipython3",
   "version": "3.10.4"
  },
  "orig_nbformat": 4
 },
 "nbformat": 4,
 "nbformat_minor": 2
}

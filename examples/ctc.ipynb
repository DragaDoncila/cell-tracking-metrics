{
 "cells": [
  {
   "attachments": {},
   "cell_type": "markdown",
   "metadata": {},
   "source": [
    "# Benchmarking Cell Tracking Challenge Data"
   ]
  },
  {
   "cell_type": "code",
   "execution_count": 1,
   "metadata": {},
   "outputs": [],
   "source": [
    "import os\n",
    "from pathlib import Path\n",
    "import pprint\n",
    "import urllib.request\n",
    "import zipfile\n",
    "\n",
    "from tqdm import tqdm\n",
    "\n",
    "from traccuracy import run_metrics\n",
    "from traccuracy.loaders import load_ctc_data\n",
    "from traccuracy.matchers import CTCMatched, IOUMatched\n",
    "from traccuracy.metrics import CTCMetrics, DivisionMetrics\n",
    "\n",
    "pp = pprint.PrettyPrinter(indent=4)"
   ]
  },
  {
   "cell_type": "code",
   "execution_count": null,
   "metadata": {},
   "outputs": [],
   "source": [
    "url = \"http://data.celltrackingchallenge.net/training-datasets/Fluo-N2DL-HeLa.zip\"\n",
    "data_dir = 'downloads'\n",
    "\n",
    "if not os.path.exists(data_dir):\n",
    "    os.mkdir(data_dir)\n",
    "\n",
    "filename = url.split('/')[-1]\n",
    "file_path = os.path.join(data_dir, filename)\n",
    "ds_name = filename.split('.')[0]"
   ]
  },
  {
   "cell_type": "code",
   "execution_count": null,
   "metadata": {},
   "outputs": [],
   "source": [
    "# Add a utility to make a progress bar when downloading the file\n",
    "class DownloadProgressBar(tqdm):\n",
    "    def update_to(self, b=1, bsize=1, tsize=None):\n",
    "        if tsize is not None:\n",
    "            self.total = tsize\n",
    "        self.update(b * bsize - self.n)\n",
    "\n",
    "if not os.path.exists(file_path):\n",
    "    print(f\"Downloading {ds_name} data from the CTC website\")\n",
    "    # Downloading data\n",
    "    with DownloadProgressBar(unit='B', unit_scale=True,\n",
    "                             miniters=1, desc=url.split('/')[-1]) as t:\n",
    "        urllib.request.urlretrieve(url, file_path, reporthook=t.update_to)\n",
    "    # Unzip the data\n",
    "    # TODO add a progress bar to zip as well\n",
    "    with zipfile.ZipFile(file_path, 'r') as zip_ref:\n",
    "        zip_ref.extractall(data_dir)"
   ]
  },
  {
   "cell_type": "code",
   "execution_count": 3,
   "metadata": {},
   "outputs": [
    {
     "name": "stderr",
     "output_type": "stream",
     "text": [
      "Loading TIFFs: 100%|██████████| 92/92 [00:00<00:00, 122.31it/s]\n",
      "Loading TIFFs: 100%|██████████| 92/92 [00:00<00:00, 158.07it/s]\n"
     ]
    }
   ],
   "source": [
    "\n",
    "gt_data = load_ctc_data(\n",
    "    '/home/draga/PhD/data/cell_tracking_challenge/ST_Segmentations/Fluo-N2DL-HeLa/01_GT/TRA',\n",
    "    '/home/draga/PhD/data/cell_tracking_challenge/ST_Segmentations/Fluo-N2DL-HeLa/01_GT/TRA/man_track.txt'\n",
    ")\n",
    "pred_data = load_ctc_data(\n",
    "    'sample-data/Fluo-N2DL-HeLa/01_RES', \n",
    "    'sample-data/Fluo-N2DL-HeLa/01_RES/res_track.txt'\n",
    ")"
   ]
  },
  {
   "attachments": {},
   "cell_type": "markdown",
   "metadata": {},
   "source": [
    "Run CTC metrics with additional evaluation of division events."
   ]
  },
  {
   "cell_type": "code",
   "execution_count": 4,
   "metadata": {},
   "outputs": [
    {
     "name": "stderr",
     "output_type": "stream",
     "text": [
      "Matching frames: 100%|██████████| 92/92 [00:20<00:00,  4.47it/s]\n"
     ]
    },
    {
     "name": "stdout",
     "output_type": "stream",
     "text": [
      "Matched 8600 out of 8639 ground truth nodes.\n",
      "Matched 8600 out of 8600 predicted nodes.\n"
     ]
    },
    {
     "name": "stderr",
     "output_type": "stream",
     "text": [
      "Evaluating nodes: 100%|██████████| 92/92 [00:00<00:00, 3636.53it/s]\n",
      "Evaluating FP edges:  67%|██████▋   | 5683/8535 [00:12<00:06, 449.83it/s]\n"
     ]
    },
    {
     "ename": "KeyboardInterrupt",
     "evalue": "",
     "output_type": "error",
     "traceback": [
      "\u001b[0;31m---------------------------------------------------------------------------\u001b[0m",
      "\u001b[0;31mKeyboardInterrupt\u001b[0m                         Traceback (most recent call last)",
      "Cell \u001b[0;32mIn[4], line 1\u001b[0m\n\u001b[0;32m----> 1\u001b[0m ctc_results \u001b[39m=\u001b[39m run_metrics(\n\u001b[1;32m      2\u001b[0m     gt_data\u001b[39m=\u001b[39;49mgt_data, \n\u001b[1;32m      3\u001b[0m     pred_data\u001b[39m=\u001b[39;49mpred_data, \n\u001b[1;32m      4\u001b[0m     matcher\u001b[39m=\u001b[39;49mCTCMatched, \n\u001b[1;32m      5\u001b[0m     metrics\u001b[39m=\u001b[39;49m[CTCMetrics, DivisionMetrics],\n\u001b[1;32m      6\u001b[0m     metrics_kwargs\u001b[39m=\u001b[39;49m\u001b[39mdict\u001b[39;49m(\n\u001b[1;32m      7\u001b[0m         frame_buffer\u001b[39m=\u001b[39;49m(\u001b[39m0\u001b[39;49m,\u001b[39m1\u001b[39;49m,\u001b[39m2\u001b[39;49m)\n\u001b[1;32m      8\u001b[0m     )\n\u001b[1;32m      9\u001b[0m )\n\u001b[1;32m     10\u001b[0m pp\u001b[39m.\u001b[39mpprint(ctc_results)\n",
      "File \u001b[0;32m~/PhD/code/repos/cell-tracking-metrics/src/traccuracy/_run_metrics.py:53\u001b[0m, in \u001b[0;36mrun_metrics\u001b[0;34m(gt_data, pred_data, matcher, metrics, matcher_kwargs, metrics_kwargs)\u001b[0m\n\u001b[1;32m     51\u001b[0m \u001b[39mfor\u001b[39;00m _metric \u001b[39min\u001b[39;00m metrics:\n\u001b[1;32m     52\u001b[0m     relevant_kwargs \u001b[39m=\u001b[39m metric_kwarg_dict[_metric]\n\u001b[0;32m---> 53\u001b[0m     result \u001b[39m=\u001b[39m _metric(matched, \u001b[39m*\u001b[39;49m\u001b[39m*\u001b[39;49mrelevant_kwargs)\n\u001b[1;32m     54\u001b[0m     results[_metric\u001b[39m.\u001b[39m\u001b[39m__name__\u001b[39m] \u001b[39m=\u001b[39m result\u001b[39m.\u001b[39mresults\n\u001b[1;32m     55\u001b[0m \u001b[39mreturn\u001b[39;00m results\n",
      "File \u001b[0;32m~/PhD/code/repos/cell-tracking-metrics/src/traccuracy/metrics/_ctc.py:83\u001b[0m, in \u001b[0;36mCTCMetrics.__init__\u001b[0;34m(self, matched_data)\u001b[0m\n\u001b[1;32m     81\u001b[0m edge_weight_fn \u001b[39m=\u001b[39m \u001b[39m1.5\u001b[39m\n\u001b[1;32m     82\u001b[0m edge_weight_ws \u001b[39m=\u001b[39m \u001b[39m1\u001b[39m\n\u001b[0;32m---> 83\u001b[0m \u001b[39msuper\u001b[39;49m()\u001b[39m.\u001b[39;49m\u001b[39m__init__\u001b[39;49m(\n\u001b[1;32m     84\u001b[0m     matched_data,\n\u001b[1;32m     85\u001b[0m     vertex_ns_weight\u001b[39m=\u001b[39;49mvertex_weight_ns,\n\u001b[1;32m     86\u001b[0m     vertex_fp_weight\u001b[39m=\u001b[39;49mvertex_weight_fp,\n\u001b[1;32m     87\u001b[0m     vertex_fn_weight\u001b[39m=\u001b[39;49mvertex_weight_fn,\n\u001b[1;32m     88\u001b[0m     edge_fp_weight\u001b[39m=\u001b[39;49medge_weight_fp,\n\u001b[1;32m     89\u001b[0m     edge_fn_weight\u001b[39m=\u001b[39;49medge_weight_fn,\n\u001b[1;32m     90\u001b[0m     edge_ws_weight\u001b[39m=\u001b[39;49medge_weight_ws,\n\u001b[1;32m     91\u001b[0m )\n",
      "File \u001b[0;32m~/PhD/code/repos/cell-tracking-metrics/src/traccuracy/metrics/_ctc.py:34\u001b[0m, in \u001b[0;36mAOGMMetrics.__init__\u001b[0;34m(self, matched_data, vertex_ns_weight, vertex_fp_weight, vertex_fn_weight, edge_fp_weight, edge_fn_weight, edge_ws_weight)\u001b[0m\n\u001b[1;32m     24\u001b[0m \u001b[39mself\u001b[39m\u001b[39m.\u001b[39mv_weights \u001b[39m=\u001b[39m {\n\u001b[1;32m     25\u001b[0m     \u001b[39m\"\u001b[39m\u001b[39mns\u001b[39m\u001b[39m\"\u001b[39m: vertex_ns_weight,\n\u001b[1;32m     26\u001b[0m     \u001b[39m\"\u001b[39m\u001b[39mfp\u001b[39m\u001b[39m\"\u001b[39m: vertex_fp_weight,\n\u001b[1;32m     27\u001b[0m     \u001b[39m\"\u001b[39m\u001b[39mfn\u001b[39m\u001b[39m\"\u001b[39m: vertex_fn_weight,\n\u001b[1;32m     28\u001b[0m }\n\u001b[1;32m     29\u001b[0m \u001b[39mself\u001b[39m\u001b[39m.\u001b[39me_weights \u001b[39m=\u001b[39m {\n\u001b[1;32m     30\u001b[0m     \u001b[39m\"\u001b[39m\u001b[39mfp\u001b[39m\u001b[39m\"\u001b[39m: edge_fp_weight,\n\u001b[1;32m     31\u001b[0m     \u001b[39m\"\u001b[39m\u001b[39mfn\u001b[39m\u001b[39m\"\u001b[39m: edge_fn_weight,\n\u001b[1;32m     32\u001b[0m     \u001b[39m\"\u001b[39m\u001b[39mws\u001b[39m\u001b[39m\"\u001b[39m: edge_ws_weight,\n\u001b[1;32m     33\u001b[0m }\n\u001b[0;32m---> 34\u001b[0m \u001b[39msuper\u001b[39;49m()\u001b[39m.\u001b[39;49m\u001b[39m__init__\u001b[39;49m(matched_data)\n",
      "File \u001b[0;32m~/PhD/code/repos/cell-tracking-metrics/src/traccuracy/metrics/_base.py:26\u001b[0m, in \u001b[0;36mMetric.__init__\u001b[0;34m(self, matched_data)\u001b[0m\n\u001b[1;32m     15\u001b[0m \u001b[39m\u001b[39m\u001b[39m\"\"\"Add Matched class which takes TrackingData objects for gt and pred,and computes matching\u001b[39;00m\n\u001b[1;32m     16\u001b[0m \n\u001b[1;32m     17\u001b[0m \u001b[39mEach current matching method will be a subclass of Matched e.g. CTCMatched or IOUMatched.\u001b[39;00m\n\u001b[0;32m   (...)\u001b[0m\n\u001b[1;32m     23\u001b[0m \u001b[39m    matched_data (Matched): Matched object for set of GT and Pred data\u001b[39;00m\n\u001b[1;32m     24\u001b[0m \u001b[39m\"\"\"\u001b[39;00m\n\u001b[1;32m     25\u001b[0m \u001b[39mself\u001b[39m\u001b[39m.\u001b[39mdata \u001b[39m=\u001b[39m matched_data\n\u001b[0;32m---> 26\u001b[0m \u001b[39mself\u001b[39m\u001b[39m.\u001b[39mresults \u001b[39m=\u001b[39m \u001b[39mself\u001b[39;49m\u001b[39m.\u001b[39;49mcompute()\n",
      "File \u001b[0;32m~/PhD/code/repos/cell-tracking-metrics/src/traccuracy/metrics/_ctc.py:105\u001b[0m, in \u001b[0;36mCTCMetrics.compute\u001b[0;34m(self)\u001b[0m\n\u001b[1;32m     99\u001b[0m \u001b[39mif\u001b[39;00m aogm_0 \u001b[39m==\u001b[39m \u001b[39m0\u001b[39m:\n\u001b[1;32m    100\u001b[0m     \u001b[39mraise\u001b[39;00m \u001b[39mRuntimeError\u001b[39;00m(\n\u001b[1;32m    101\u001b[0m         \u001b[39mf\u001b[39m\u001b[39m\"\u001b[39m\u001b[39mAOGM0 is 0 - cannot compute TRA from GT graph with \u001b[39m\u001b[39m{\u001b[39;00mn_nodes\u001b[39m}\u001b[39;00m\u001b[39m nodes and\u001b[39m\u001b[39m\"\u001b[39m\n\u001b[1;32m    102\u001b[0m         \u001b[39m+\u001b[39m \u001b[39mf\u001b[39m\u001b[39m\"\u001b[39m\u001b[39m \u001b[39m\u001b[39m{\u001b[39;00mn_edges\u001b[39m}\u001b[39;00m\u001b[39m edges with \u001b[39m\u001b[39m{\u001b[39;00m\u001b[39mself\u001b[39m\u001b[39m.\u001b[39mv_weights[\u001b[39m'\u001b[39m\u001b[39mfn\u001b[39m\u001b[39m'\u001b[39m]\u001b[39m}\u001b[39;00m\u001b[39m vertex FN weight and\u001b[39m\u001b[39m\"\u001b[39m\n\u001b[1;32m    103\u001b[0m         \u001b[39m+\u001b[39m \u001b[39mf\u001b[39m\u001b[39m\"\u001b[39m\u001b[39m \u001b[39m\u001b[39m{\u001b[39;00m\u001b[39mself\u001b[39m\u001b[39m.\u001b[39me_weights[\u001b[39m'\u001b[39m\u001b[39mfn\u001b[39m\u001b[39m'\u001b[39m]\u001b[39m}\u001b[39;00m\u001b[39m edge FN weight\u001b[39m\u001b[39m\"\u001b[39m\n\u001b[1;32m    104\u001b[0m     )\n\u001b[0;32m--> 105\u001b[0m errors \u001b[39m=\u001b[39m \u001b[39msuper\u001b[39;49m()\u001b[39m.\u001b[39;49mcompute()\n\u001b[1;32m    106\u001b[0m aogm \u001b[39m=\u001b[39m errors[\u001b[39m\"\u001b[39m\u001b[39mAOGM\u001b[39m\u001b[39m\"\u001b[39m]\n\u001b[1;32m    107\u001b[0m tra \u001b[39m=\u001b[39m \u001b[39m1\u001b[39m \u001b[39m-\u001b[39m \u001b[39mmin\u001b[39m(aogm, aogm_0) \u001b[39m/\u001b[39m aogm_0\n",
      "File \u001b[0;32m~/PhD/code/repos/cell-tracking-metrics/src/traccuracy/metrics/_ctc.py:42\u001b[0m, in \u001b[0;36mAOGMMetrics.compute\u001b[0;34m(self)\u001b[0m\n\u001b[1;32m     39\u001b[0m mapping \u001b[39m=\u001b[39m \u001b[39mself\u001b[39m\u001b[39m.\u001b[39mdata\u001b[39m.\u001b[39mmapping\n\u001b[1;32m     40\u001b[0m matrices \u001b[39m=\u001b[39m \u001b[39mself\u001b[39m\u001b[39m.\u001b[39mdata\u001b[39m.\u001b[39m_det_matrices\n\u001b[0;32m---> 42\u001b[0m track_events \u001b[39m=\u001b[39m evaluate_ctc_events(gt_graph, pred_graph, mapping, matrices)\n\u001b[1;32m     43\u001b[0m vertex_error_counts \u001b[39m=\u001b[39m {\n\u001b[1;32m     44\u001b[0m     \u001b[39m\"\u001b[39m\u001b[39mns\u001b[39m\u001b[39m\"\u001b[39m: track_events\u001b[39m.\u001b[39mnonsplit_vertices_count,\n\u001b[1;32m     45\u001b[0m     \u001b[39m\"\u001b[39m\u001b[39mfp\u001b[39m\u001b[39m\"\u001b[39m: track_events\u001b[39m.\u001b[39mfp_node_count,\n\u001b[1;32m     46\u001b[0m     \u001b[39m\"\u001b[39m\u001b[39mfn\u001b[39m\u001b[39m\"\u001b[39m: track_events\u001b[39m.\u001b[39mfn_node_count,\n\u001b[1;32m     47\u001b[0m }\n\u001b[1;32m     48\u001b[0m edge_error_counts \u001b[39m=\u001b[39m {\n\u001b[1;32m     49\u001b[0m     \u001b[39m\"\u001b[39m\u001b[39mws\u001b[39m\u001b[39m\"\u001b[39m: track_events\u001b[39m.\u001b[39mincorrect_semantics_count,\n\u001b[1;32m     50\u001b[0m     \u001b[39m\"\u001b[39m\u001b[39mfp\u001b[39m\u001b[39m\"\u001b[39m: track_events\u001b[39m.\u001b[39mfp_edge_count,\n\u001b[1;32m     51\u001b[0m     \u001b[39m\"\u001b[39m\u001b[39mfn\u001b[39m\u001b[39m\"\u001b[39m: track_events\u001b[39m.\u001b[39mfn_edge_count,\n\u001b[1;32m     52\u001b[0m }\n",
      "File \u001b[0;32m~/PhD/code/repos/cell-tracking-metrics/src/traccuracy/track_errors/_ctc.py:21\u001b[0m, in \u001b[0;36mevaluate_ctc_events\u001b[0;34m(G_gt, G_pred, mapper, det_matrices)\u001b[0m\n\u001b[1;32m     19\u001b[0m pred_nx_graph \u001b[39m=\u001b[39m G_pred\u001b[39m.\u001b[39mgraph\n\u001b[1;32m     20\u001b[0m node_errors \u001b[39m=\u001b[39m get_vertex_errors(gt_nx_graph, pred_nx_graph, det_matrices)\n\u001b[0;32m---> 21\u001b[0m edge_errors \u001b[39m=\u001b[39m get_edge_errors(gt_nx_graph, pred_nx_graph, mapper)\n\u001b[1;32m     23\u001b[0m track_events \u001b[39m=\u001b[39m TrackEvents(\n\u001b[1;32m     24\u001b[0m     fp_nodes\u001b[39m=\u001b[39mnode_errors[\u001b[39m\"\u001b[39m\u001b[39mfp_nodes\u001b[39m\u001b[39m\"\u001b[39m],\n\u001b[1;32m     25\u001b[0m     fn_nodes\u001b[39m=\u001b[39mnode_errors[\u001b[39m\"\u001b[39m\u001b[39mfn_nodes\u001b[39m\u001b[39m\"\u001b[39m],\n\u001b[0;32m   (...)\u001b[0m\n\u001b[1;32m     29\u001b[0m     incorrect_semantics\u001b[39m=\u001b[39medge_errors[\u001b[39m\"\u001b[39m\u001b[39mws_edges\u001b[39m\u001b[39m\"\u001b[39m],\n\u001b[1;32m     30\u001b[0m )\n\u001b[1;32m     31\u001b[0m \u001b[39mreturn\u001b[39;00m track_events\n",
      "File \u001b[0;32m~/PhD/code/repos/cell-tracking-metrics/src/traccuracy/track_errors/_ctc.py:131\u001b[0m, in \u001b[0;36mget_edge_errors\u001b[0;34m(gt_graph, comp_graph, node_mapping)\u001b[0m\n\u001b[1;32m    129\u001b[0m source, target \u001b[39m=\u001b[39m edge[\u001b[39m0\u001b[39m], edge[\u001b[39m1\u001b[39m]\n\u001b[1;32m    130\u001b[0m source_gt_id \u001b[39m=\u001b[39m \u001b[39mlist\u001b[39m(\u001b[39mfilter\u001b[39m(\u001b[39mlambda\u001b[39;00m mp: mp[\u001b[39m1\u001b[39m] \u001b[39m==\u001b[39m source, node_mapping))[\u001b[39m0\u001b[39m][\u001b[39m0\u001b[39m]\n\u001b[0;32m--> 131\u001b[0m target_gt_id \u001b[39m=\u001b[39m \u001b[39mlist\u001b[39;49m(\u001b[39mfilter\u001b[39;49m(\u001b[39mlambda\u001b[39;49;00m mp: mp[\u001b[39m1\u001b[39;49m] \u001b[39m==\u001b[39;49m target, node_mapping))[\u001b[39m0\u001b[39m][\u001b[39m0\u001b[39m]\n\u001b[1;32m    132\u001b[0m expected_gt_edge \u001b[39m=\u001b[39m (source_gt_id, target_gt_id)\n\u001b[1;32m    133\u001b[0m \u001b[39mif\u001b[39;00m expected_gt_edge \u001b[39mnot\u001b[39;00m \u001b[39min\u001b[39;00m gt_graph\u001b[39m.\u001b[39medges:\n",
      "File \u001b[0;32m~/PhD/code/repos/cell-tracking-metrics/src/traccuracy/track_errors/_ctc.py:131\u001b[0m, in \u001b[0;36mget_edge_errors.<locals>.<lambda>\u001b[0;34m(mp)\u001b[0m\n\u001b[1;32m    129\u001b[0m source, target \u001b[39m=\u001b[39m edge[\u001b[39m0\u001b[39m], edge[\u001b[39m1\u001b[39m]\n\u001b[1;32m    130\u001b[0m source_gt_id \u001b[39m=\u001b[39m \u001b[39mlist\u001b[39m(\u001b[39mfilter\u001b[39m(\u001b[39mlambda\u001b[39;00m mp: mp[\u001b[39m1\u001b[39m] \u001b[39m==\u001b[39m source, node_mapping))[\u001b[39m0\u001b[39m][\u001b[39m0\u001b[39m]\n\u001b[0;32m--> 131\u001b[0m target_gt_id \u001b[39m=\u001b[39m \u001b[39mlist\u001b[39m(\u001b[39mfilter\u001b[39m(\u001b[39mlambda\u001b[39;00m mp: mp[\u001b[39m1\u001b[39m] \u001b[39m==\u001b[39m target, node_mapping))[\u001b[39m0\u001b[39m][\u001b[39m0\u001b[39m]\n\u001b[1;32m    132\u001b[0m expected_gt_edge \u001b[39m=\u001b[39m (source_gt_id, target_gt_id)\n\u001b[1;32m    133\u001b[0m \u001b[39mif\u001b[39;00m expected_gt_edge \u001b[39mnot\u001b[39;00m \u001b[39min\u001b[39;00m gt_graph\u001b[39m.\u001b[39medges:\n",
      "\u001b[0;31mKeyboardInterrupt\u001b[0m: "
     ]
    }
   ],
   "source": [
    "ctc_results = run_metrics(\n",
    "    gt_data=gt_data, \n",
    "    pred_data=pred_data, \n",
    "    matcher=CTCMatched, \n",
    "    metrics=[CTCMetrics, DivisionMetrics],\n",
    "    metrics_kwargs=dict(\n",
    "        frame_buffer=(0,1,2)\n",
    "    )\n",
    ")\n",
    "pp.pprint(ctc_results)"
   ]
  },
  {
   "attachments": {},
   "cell_type": "markdown",
   "metadata": {},
   "source": [
    "Use an IOU matcher which supports a minimum threshold for overlap and run division metrics."
   ]
  },
  {
   "cell_type": "code",
   "execution_count": null,
   "metadata": {},
   "outputs": [],
   "source": [
    "iou_results = run_metrics(\n",
    "    gt_data=gt_data, \n",
    "    pred_data=pred_data, \n",
    "    matcher=IOUMatched, \n",
    "    matcher_kwargs=dict(\n",
    "        iou_threshold=0.5\n",
    "    ),\n",
    "    metrics=[DivisionMetrics], \n",
    "    metrics_kwargs=dict(\n",
    "        frame_buffer=(0,1,2)\n",
    "    )\n",
    ")\n",
    "pp.pprint(iou_results)"
   ]
  }
 ],
 "metadata": {
  "kernelspec": {
   "display_name": "tracking-metrics",
   "language": "python",
   "name": "python3"
  },
  "language_info": {
   "codemirror_mode": {
    "name": "ipython",
    "version": 3
   },
   "file_extension": ".py",
   "mimetype": "text/x-python",
   "name": "python",
   "nbconvert_exporter": "python",
   "pygments_lexer": "ipython3",
   "version": "3.9.16"
  },
  "orig_nbformat": 4
 },
 "nbformat": 4,
 "nbformat_minor": 2
}

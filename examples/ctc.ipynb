{
 "cells": [
  {
   "cell_type": "code",
   "execution_count": 1,
   "metadata": {},
   "outputs": [],
   "source": [
    "import os\n",
    "from pathlib import Path\n",
    "import urllib.request\n",
    "import zipfile\n",
    "\n",
    "from tqdm import tqdm\n",
    "\n",
    "from traccuracy import run_metrics\n",
    "from traccuracy.loaders.ctc import load_ctc_data\n",
    "from traccuracy.matchers import CTCMatched\n",
    "from traccuracy.metrics import CTCMetrics, DivisionMetrics"
   ]
  },
  {
   "cell_type": "code",
   "execution_count": 2,
   "metadata": {},
   "outputs": [],
   "source": [
    "url = \"http://data.celltrackingchallenge.net/training-datasets/Fluo-N2DL-HeLa.zip\"\n",
    "data_dir = 'downloads'\n",
    "\n",
    "if not os.path.exists(data_dir):\n",
    "    os.mkdir(data_dir)\n",
    "\n",
    "filename = url.split('/')[-1]\n",
    "file_path = os.path.join(data_dir, filename)\n",
    "ds_name = filename.split('.')[0]"
   ]
  },
  {
   "cell_type": "code",
   "execution_count": 19,
   "metadata": {},
   "outputs": [
    {
     "name": "stdout",
     "output_type": "stream",
     "text": [
      "Downloading Fluo-N2DL-HeLa data from the CTC website\n"
     ]
    },
    {
     "name": "stderr",
     "output_type": "stream",
     "text": [
      "Fluo-N2DL-HeLa.zip: 191MB [00:10, 17.4MB/s]                              \n"
     ]
    }
   ],
   "source": [
    "# Add a utility to make a progress bar when downloading the file\n",
    "class DownloadProgressBar(tqdm):\n",
    "    def update_to(self, b=1, bsize=1, tsize=None):\n",
    "        if tsize is not None:\n",
    "            self.total = tsize\n",
    "        self.update(b * bsize - self.n)\n",
    "\n",
    "if not os.path.exists(file_path):\n",
    "    print(f\"Downloading {ds_name} data from the CTC website\")\n",
    "    # Downloading data\n",
    "    with DownloadProgressBar(unit='B', unit_scale=True,\n",
    "                             miniters=1, desc=url.split('/')[-1]) as t:\n",
    "        urllib.request.urlretrieve(url, file_path, reporthook=t.update_to)\n",
    "    # Unzip the data\n",
    "    # TODO add a progress bar to zip as well\n",
    "    with zipfile.ZipFile(file_path, 'r') as zip_ref:\n",
    "        zip_ref.extractall(data_dir)"
   ]
  },
  {
   "cell_type": "code",
   "execution_count": 3,
   "metadata": {},
   "outputs": [
    {
     "name": "stderr",
     "output_type": "stream",
     "text": [
      "Loading TIFFs: 100%|██████████| 92/92 [00:00<00:00, 385.33it/s]\n",
      "Loading TIFFs: 100%|██████████| 92/92 [00:00<00:00, 709.70it/s]\n"
     ]
    }
   ],
   "source": [
    "\n",
    "gt_data = load_ctc_data('downloads/Fluo-N2DL-HeLa/01_GT/TRA', 'man_track.txt')\n",
    "pred_data = load_ctc_data('sample-data/Fluo-N2DL-HeLa/01_RES', 'res_track.txt')"
   ]
  },
  {
   "cell_type": "code",
   "execution_count": 11,
   "metadata": {},
   "outputs": [
    {
     "name": "stderr",
     "output_type": "stream",
     "text": [
      "Matching frames: 100%|██████████| 92/92 [00:13<00:00,  7.05it/s]\n",
      "Evaluating nodes: 100%|██████████| 92/92 [00:00<00:00, 13702.50it/s]\n",
      "Evaluating edges: 100%|██████████| 8535/8535 [00:06<00:00, 1406.70it/s]\n"
     ]
    }
   ],
   "source": [
    "results = run_metrics(\n",
    "    gt_data=gt_data, \n",
    "    pred_data=pred_data, \n",
    "    matcher=CTCMatched, \n",
    "    metrics=[CTCMetrics, DivisionMetrics], \n",
    "    frame_buffer=(0,1,2)\n",
    ")"
   ]
  },
  {
   "cell_type": "code",
   "execution_count": 9,
   "metadata": {},
   "outputs": [
    {
     "data": {
      "text/plain": [
       "{'AOGM': 631.5,\n",
       " 'fp_nodes': 0,\n",
       " 'fn_nodes': 39,\n",
       " 'ns_nodes': 0,\n",
       " 'fp_edges': 60,\n",
       " 'fn_edges': 87,\n",
       " 'ws_edges': 51,\n",
       " 'TRA': 0.9936361895740329,\n",
       " 'DET': 0.9954855886097927}"
      ]
     },
     "execution_count": 9,
     "metadata": {},
     "output_type": "execute_result"
    }
   ],
   "source": [
    "results['CTCMetrics'].results"
   ]
  },
  {
   "cell_type": "code",
   "execution_count": 12,
   "metadata": {},
   "outputs": [
    {
     "data": {
      "text/plain": [
       "{'Frame Buffer 0': {'Division Recall': 0.8085106382978723,\n",
       "  'Division Precision': 0.7169811320754716,\n",
       "  'Division F1': 0.76,\n",
       "  'Mitotic Branching Correctness': 0.6129032258064516,\n",
       "  'Total GT Divisions': 94,\n",
       "  'True Positive Divisions': 76,\n",
       "  'False Positive Divisions': 30,\n",
       "  'False Negative Divisions': 18},\n",
       " 'Frame Buffer 1': {'Division Recall': 0.8085106382978723,\n",
       "  'Division Precision': 0.7169811320754716,\n",
       "  'Division F1': 0.76,\n",
       "  'Mitotic Branching Correctness': 0.6129032258064516,\n",
       "  'Total GT Divisions': 94,\n",
       "  'True Positive Divisions': 76,\n",
       "  'False Positive Divisions': 30,\n",
       "  'False Negative Divisions': 18},\n",
       " 'Frame Buffer 2': {'Division Recall': 0.8085106382978723,\n",
       "  'Division Precision': 0.7169811320754716,\n",
       "  'Division F1': 0.76,\n",
       "  'Mitotic Branching Correctness': 0.6129032258064516,\n",
       "  'Total GT Divisions': 94,\n",
       "  'True Positive Divisions': 76,\n",
       "  'False Positive Divisions': 30,\n",
       "  'False Negative Divisions': 18}}"
      ]
     },
     "execution_count": 12,
     "metadata": {},
     "output_type": "execute_result"
    }
   ],
   "source": [
    "results['DivisionMetrics'].results"
   ]
  }
 ],
 "metadata": {
  "kernelspec": {
   "display_name": "tracking-metrics",
   "language": "python",
   "name": "python3"
  },
  "language_info": {
   "codemirror_mode": {
    "name": "ipython",
    "version": 3
   },
   "file_extension": ".py",
   "mimetype": "text/x-python",
   "name": "python",
   "nbconvert_exporter": "python",
   "pygments_lexer": "ipython3",
   "version": "3.10.9"
  },
  "orig_nbformat": 4
 },
 "nbformat": 4,
 "nbformat_minor": 2
}
